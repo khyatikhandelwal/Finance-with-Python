{
 "cells": [
  {
   "cell_type": "markdown",
   "metadata": {},
   "source": [
    "pip install Keras"
   ]
  },
  {
   "cell_type": "code",
   "execution_count": 2,
   "metadata": {},
   "outputs": [
    {
     "name": "stdout",
     "output_type": "stream",
     "text": [
      "Requirement already satisfied: pandas-datareader in c:\\programdata\\anaconda4\\lib\\site-packages (0.9.0)\n",
      "Requirement already satisfied: pandas>=0.23 in c:\\programdata\\anaconda4\\lib\\site-packages (from pandas-datareader) (1.1.3)\n",
      "Requirement already satisfied: requests>=2.19.0 in c:\\programdata\\anaconda4\\lib\\site-packages (from pandas-datareader) (2.24.0)\n",
      "Note: you may need to restart the kernel to use updated packages.\n",
      "Requirement already satisfied: lxml in c:\\programdata\\anaconda4\\lib\\site-packages (from pandas-datareader) (4.6.1)\n",
      "Requirement already satisfied: python-dateutil>=2.7.3 in c:\\programdata\\anaconda4\\lib\\site-packages (from pandas>=0.23->pandas-datareader) (2.8.1)\n",
      "Requirement already satisfied: numpy>=1.15.4 in c:\\programdata\\anaconda4\\lib\\site-packages (from pandas>=0.23->pandas-datareader) (1.19.2)\n",
      "Requirement already satisfied: pytz>=2017.2 in c:\\programdata\\anaconda4\\lib\\site-packages (from pandas>=0.23->pandas-datareader) (2020.1)\n",
      "Requirement already satisfied: urllib3!=1.25.0,!=1.25.1,<1.26,>=1.21.1 in c:\\programdata\\anaconda4\\lib\\site-packages (from requests>=2.19.0->pandas-datareader) (1.25.11)\n",
      "Requirement already satisfied: chardet<4,>=3.0.2 in c:\\programdata\\anaconda4\\lib\\site-packages (from requests>=2.19.0->pandas-datareader) (3.0.4)\n",
      "Requirement already satisfied: idna<3,>=2.5 in c:\\programdata\\anaconda4\\lib\\site-packages (from requests>=2.19.0->pandas-datareader) (2.10)\n",
      "Requirement already satisfied: certifi>=2017.4.17 in c:\\programdata\\anaconda4\\lib\\site-packages (from requests>=2.19.0->pandas-datareader) (2020.6.20)\n",
      "Requirement already satisfied: six>=1.5 in c:\\programdata\\anaconda4\\lib\\site-packages (from python-dateutil>=2.7.3->pandas>=0.23->pandas-datareader) (1.15.0)\n"
     ]
    }
   ],
   "source": [
    "pip install pandas-datareader"
   ]
  },
  {
   "cell_type": "code",
   "execution_count": 3,
   "metadata": {},
   "outputs": [],
   "source": [
    " import pandas as pd\n",
    "import numpy as np\n",
    "import pandas_datareader as pdr\n",
    "#Collect Apple's Stock Data\n",
    "key='09dfd36db82b8087f3b269cbb1882a9cf5b3c947'"
   ]
  },
  {
   "cell_type": "code",
   "execution_count": 4,
   "metadata": {},
   "outputs": [
    {
     "data": {
      "text/plain": [
       "[<matplotlib.lines.Line2D at 0xeefcda8>]"
      ]
     },
     "execution_count": 4,
     "metadata": {},
     "output_type": "execute_result"
    },
    {
     "data": {
      "image/png": "[encoded data removed]",
      "text/plain": [
       "<Figure size 432x288 with 1 Axes>"
      ]
     },
     "metadata": {
      "needs_background": "light"
     },
     "output_type": "display_data"
    }
   ],
   "source": [
    "data_frame= pdr.get_data_tiingo(\"AAPL\",api_key=key)\n",
    "data_frame.to_csv(\"AAPL.csv\")\n",
    "data_frame_2=data_frame.reset_index()[\"close\"]\n",
    "data_frame_2[1228:]\n",
    "\n",
    "df1=data_frame.reset_index()[\"close\"]\n",
    "df1.shape\n",
    "(1256,)\n",
    "import matplotlib.pyplot as plt\n",
    "plt.plot(df1)"
   ]
  },
  {
   "cell_type": "code",
   "execution_count": 5,
   "metadata": {},
   "outputs": [
    {
     "data": {
      "text/plain": [
       "(1258, 1)"
      ]
     },
     "execution_count": 5,
     "metadata": {},
     "output_type": "execute_result"
    }
   ],
   "source": [
    "from sklearn.preprocessing import MinMaxScaler\n",
    "scaler=MinMaxScaler(feature_range=(0,1))\n",
    "df1=scaler.fit_transform(np.array(df1).reshape(-1,1))\n",
    "df1.shape"
   ]
  },
  {
   "cell_type": "code",
   "execution_count": 6,
   "metadata": {},
   "outputs": [
    {
     "data": {
      "text/plain": [
       "378"
      ]
     },
     "execution_count": 6,
     "metadata": {},
     "output_type": "execute_result"
    }
   ],
   "source": [
    "#Categorizing Data into Train data and Test data\n",
    "\n",
    "training_data=int(len(df1)*0.70) # using 70% os data to train and remaining 30 % to test\n",
    "testing_data=int(len(df1)*0.3)\n",
    "train_data,test_data=df1[0:training_data,:],df1[training_data:len(df1),:1]\n",
    "training_data,testing_data\n",
    "(879, 376)\n",
    "len(test_data)"
   ]
  },
  {
   "cell_type": "code",
   "execution_count": 7,
   "metadata": {},
   "outputs": [
    {
     "name": "stdout",
     "output_type": "stream",
     "text": [
      "[[0.01415288 0.01830697 0.02021495 ... 0.05859196 0.06110373 0.06023427]\n",
      " [0.01830697 0.02021495 0.02007004 ... 0.06110373 0.06023427 0.06180413]\n",
      " [0.02021495 0.02007004 0.01888661 ... 0.06023427 0.06180413 0.06161092]\n",
      " ...\n",
      " [0.25004227 0.26025842 0.26011351 ... 0.41096486 0.41038522 0.41644729]\n",
      " [0.26025842 0.26011351 0.25571791 ... 0.41038522 0.41644729 0.41202753]\n",
      " [0.26011351 0.25571791 0.26448497 ... 0.41644729 0.41202753 0.41956285]]\n"
     ]
    }
   ],
   "source": [
    "#Train the data\n",
    "import numpy as np\n",
    "def create_dataset (dataset, time_steps=1):\n",
    "    dataX, dataY = [] , []\n",
    "    for i in range(len(dataset)-time_steps-1):\n",
    "        a= dataset[i:(i+ time_steps) , 0]\n",
    "        dataX.append(a)\n",
    "        dataY.append(dataset[i+ time_steps, 0])\n",
    "    return np.array(dataX),np.array(dataY)\n",
    "time_steps=100\n",
    "X_Train, Y_Train = create_dataset (train_data, time_steps)\n",
    "X_Test, Y_Test = create_dataset (test_data, time_steps)\n",
    "print(X_Train)"
   ]
  },
  {
   "cell_type": "code",
   "execution_count": 10,
   "metadata": {},
   "outputs": [],
   "source": [
    "#Reshaping the train data into 3dimensional to apply LSTM\n",
    "#making data into [samples, time steps, features]\n",
    "X_Train= X_Train.reshape(X_Train.shape[0],X_Train.shape[1], 1)\n",
    "X_Test= X_Test.reshape(X_Test.shape[0],X_Test.shape[1], 1)"
   ]
  },
  {
   "cell_type": "code",
   "execution_count": null,
   "metadata": {},
   "outputs": [],
   "source": [
    "#The LSTM Model\n",
    "from tensorflow.keras.models import Sequential \n",
    "from tensorflow.keras.layers import Dense\n",
    "from tensorflow.keras.layers import LSTM"
   ]
  },
  {
   "cell_type": "code",
   "execution_count": null,
   "metadata": {},
   "outputs": [],
   "source": [
    "#Stacking LSTM Model\n",
    "model= Sequential()\n",
    "model.add(LSTM(50, return_sequences=True,input_shape=(100,1)))\n",
    "model.add(LSTM(50,return_sequences=True))\n",
    "model.add(LSTM(50))\n",
    "model.add(Dense(1))\n",
    "\n",
    "model.compile(loss=\"mean_squared_error\",optimizer=\"adam\")\n",
    "\n",
    "\n",
    "model.summary()\n",
    "\n",
    "model.fit(X_Train, Y_Train , validation_data=(X_Test, Y_Test), epochs=100, batch_size=64, verbose=1)\n",
    "\n",
    "train_Prediction = model.predict(X_Train)\n",
    "test_Prediction= model.predict(X_Test)"
   ]
  },
  {
   "cell_type": "code",
   "execution_count": null,
   "metadata": {},
   "outputs": [],
   "source": [
    "#Scaling back to original form\n",
    "train_Predict=scaler.inverse_transform(train_Predict)\n",
    "tset_Predict=scaler.inverse_transform(test_Predict)"
   ]
  }
 ],
 "metadata": {
  "kernelspec": {
   "display_name": "Python 3",
   "language": "python",
   "name": "python3"
  },
  "language_info": {
   "codemirror_mode": {
    "name": "ipython",
    "version": 3
   },
   "file_extension": ".py",
   "mimetype": "text/x-python",
   "name": "python",
   "nbconvert_exporter": "python",
   "pygments_lexer": "ipython3",
   "version": "3.8.5"
  }
 },
 "nbformat": 4,
 "nbformat_minor": 4
}
