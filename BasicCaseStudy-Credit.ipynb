{
 "cells": [
  {
   "cell_type": "markdown",
   "metadata": {},
   "source": [
    "# Analyzing an Affinity Credit Card - Imaginary Financial Modelling Case Study"
   ]
  },
  {
   "cell_type": "raw",
   "metadata": {},
   "source": [
    "Facts:\n",
    "--) average card balance is Rs 1000\n",
    "--) each card has an interest rate of 15%\n",
    "--) membership fee is Rs 20 per card\n",
    "--) loss rate is 3% (NOTE: what are the interpretations of this ? state your assumption CLEARLY when solving )\n",
    "--) Rs 25 operating cost per card\n",
    "--) Rs 10 affiliation fee per card (cost to the group organization itself, so that their members get this awesome card program)\n",
    "--) 6.5% cost of funds (that credit card company must pay to the bank where it gets money)\n",
    "--) bill/statement is issued on 1st of every month\n",
    "--) credit-free period = 15 days from the bill/statement issue date."
   ]
  },
  {
   "cell_type": "code",
   "execution_count": 42,
   "metadata": {},
   "outputs": [],
   "source": [
    "#Answer:  Loss rate is 3% - implies that the overall default in payment is 3% of total credit provided"
   ]
  },
  {
   "cell_type": "markdown",
   "metadata": {},
   "source": [
    "Consider 1000 customers for both the scenario, divide these 1000 customers into following groups(upon your assumption and understanding about the credit lending industry)\n",
    "1.customers who pay the bill within the credit-free period\n",
    "2.customers paying 30 days after the last due date\n",
    "3.customer paying 45 days after the last due date\n",
    "4.customer paying 60 days after the last due date(remove these customers for the complete calculation of the next month,basically, you are not supposed to provide further credit services to these customers)"
   ]
  },
  {
   "cell_type": "markdown",
   "metadata": {},
   "source": [
    "## Q1) Profit Percent Calculation - First Scenario "
   ]
  },
  {
   "cell_type": "markdown",
   "metadata": {},
   "source": [
    "1.customers who pay the bill within the credit-free period - 550\n",
    "2.customers paying 30 days after the last due date - 250\n",
    "3.customer paying 45 days after the last due date - 150\n",
    "4.customer paying 60 days after the last due date - 50\n",
    "ASSUMPTIONS:\n",
    "i) The interest rate is simple interest.\n",
    "ii) Interest is calculated on a daily basis.\n",
    "iii) The average card balance is the average end of month balance.\n",
    "iv) All members are more than a year old."
   ]
  },
  {
   "cell_type": "code",
   "execution_count": 43,
   "metadata": {},
   "outputs": [],
   "source": [
    "#Q1: How much profit % is generated in 1 year\n",
    "OC = 25*950 #Operating costs for cards\n",
    "CF = 0.065*1000*950 #Cost of funds\n",
    "TOC = OC + CF  #Total operating costs"
   ]
  },
  {
   "cell_type": "code",
   "execution_count": 44,
   "metadata": {},
   "outputs": [
    {
     "data": {
      "text/plain": [
       "85500.0"
      ]
     },
     "execution_count": 44,
     "metadata": {},
     "output_type": "execute_result"
    }
   ],
   "source": [
    "TOC #Excluded the 50 defaulters who will not be provided with credit services later onwards"
   ]
  },
  {
   "cell_type": "code",
   "execution_count": 45,
   "metadata": {},
   "outputs": [],
   "source": [
    "MF = 20*1000 #Membership Fee\n",
    "AF = 10*1000 #affiliation fee\n",
    "#First Month\n",
    "IF30 = 0.15*82.1917*250 \n",
    "IF45 = 0.15*123.28*150\n",
    "IF60 = 0.15*164.38*50\n",
    "TIF1 = IF30 + IF45 + IF60"
   ]
  },
  {
   "cell_type": "code",
   "execution_count": 46,
   "metadata": {},
   "outputs": [],
   "source": [
    "#Remaining Months\n",
    "TIF2 = IF30*11 + IF45*11\n",
    "Revenue = MF + AF + TIF1 + TIF2"
   ]
  },
  {
   "cell_type": "code",
   "execution_count": 47,
   "metadata": {},
   "outputs": [
    {
     "data": {
      "text/plain": [
       "101504.715"
      ]
     },
     "execution_count": 47,
     "metadata": {},
     "output_type": "execute_result"
    }
   ],
   "source": [
    "Revenue"
   ]
  },
  {
   "cell_type": "code",
   "execution_count": 48,
   "metadata": {},
   "outputs": [
    {
     "data": {
      "text/plain": [
       "15.76745966923802"
      ]
     },
     "execution_count": 48,
     "metadata": {},
     "output_type": "execute_result"
    }
   ],
   "source": [
    "Profit = Revenue-TOC\n",
    "ProfitPercent = (Profit/Revenue)*100\n",
    "ProfitPercent"
   ]
  },
  {
   "cell_type": "markdown",
   "metadata": {},
   "source": [
    "## Q1) Profit Percent Calculation - Second Scenario"
   ]
  },
  {
   "cell_type": "markdown",
   "metadata": {},
   "source": [
    "i) The interest rate is compounded quarterly.\n",
    "ii) Interest is calculated on a monthly basis.\n",
    "iii) Membership grows at 5% month on month.\n",
    "iv) Card balance grows at 5% per month for each member.\n",
    "v) The average card balance is the average end of month balance."
   ]
  },
  {
   "cell_type": "code",
   "execution_count": 52,
   "metadata": {},
   "outputs": [
    {
     "name": "stdout",
     "output_type": "stream",
     "text": [
      "Amount is 1795.8563260221301\n"
     ]
    }
   ],
   "source": [
    "def compound_interest(principle, rate, time): \n",
    "  \n",
    "    # Calculates compound interest  \n",
    "    Amount = principle * (pow((1 + rate / 100), time)) \n",
    "    print(\"Amount is\", Amount) \n",
    "  \n",
    "compound_interest(1000,5,12)"
   ]
  },
  {
   "cell_type": "markdown",
   "metadata": {},
   "source": [
    "Therefore, there are 1796 members at the end of the year and average card balance is 1795.8563 at the end of last month"
   ]
  },
  {
   "cell_type": "code",
   "execution_count": 61,
   "metadata": {},
   "outputs": [
    {
     "data": {
      "text/plain": [
       "116.73066119143846"
      ]
     },
     "execution_count": 61,
     "metadata": {},
     "output_type": "execute_result"
    }
   ],
   "source": [
    "AvgBal = 1000\n",
    "r= range(0,13)\n",
    "for i in r:\n",
    "    TCF= 0\n",
    "    CF = AvgBal*0.065 \n",
    "    TCF = TCF + CF\n",
    "    AvgBal= AvgBal*1.05\n",
    "    i=i+1\n",
    "    \n",
    "TCF\n",
    "   "
   ]
  },
  {
   "cell_type": "code",
   "execution_count": 63,
   "metadata": {},
   "outputs": [
    {
     "data": {
      "text/plain": [
       "135894.1281318665"
      ]
     },
     "execution_count": 63,
     "metadata": {},
     "output_type": "execute_result"
    }
   ],
   "source": [
    "OC= 25*1000\n",
    "COST = TCF*950 + OC  #Multiplying Total cost of funds by 950 as the 50 people wo fail to repay within 60 days are excluded from further calculations\n",
    "COST"
   ]
  },
  {
   "cell_type": "code",
   "execution_count": 64,
   "metadata": {},
   "outputs": [
    {
     "data": {
      "text/plain": [
       "176871.69974796212"
      ]
     },
     "execution_count": 64,
     "metadata": {},
     "output_type": "execute_result"
    }
   ],
   "source": [
    "AvgBal = 1000\n",
    "r= range(0,13)\n",
    "for i in r:\n",
    "    IF30 = 0\n",
    "    IF1 = AvgBal*0.15*250*2.5 \n",
    "    IF30 = IF30 + IF1\n",
    "    IF45 = 0\n",
    "    IF2 = AvgBal*0.15*3.75\n",
    "    IF45 = IF45 + IF2\n",
    "    AvgBal= AvgBal*1.05\n",
    "    i=i+1\n",
    "IntFund = IF30+ IF45 + 50*0.15*1000 #last one is the interest fund generated by the first month revolvers who failed to pay in the 60 day period\n",
    "IntFund"
   ]
  },
  {
   "cell_type": "code",
   "execution_count": 65,
   "metadata": {},
   "outputs": [],
   "source": [
    "MF = 20*1000 #Membership Fee\n",
    "AF = 10*1000 #affiliation fee"
   ]
  },
  {
   "cell_type": "code",
   "execution_count": 75,
   "metadata": {},
   "outputs": [
    {
     "data": {
      "text/plain": [
       "206871.69974796212"
      ]
     },
     "execution_count": 75,
     "metadata": {},
     "output_type": "execute_result"
    }
   ],
   "source": [
    "Revenue2= MF + AF + IntFund\n",
    "Revenue2"
   ]
  },
  {
   "cell_type": "code",
   "execution_count": 67,
   "metadata": {},
   "outputs": [
    {
     "data": {
      "text/plain": [
       "70977.5716160956"
      ]
     },
     "execution_count": 67,
     "metadata": {},
     "output_type": "execute_result"
    }
   ],
   "source": [
    "Profit2 = Revenue2 - COST \n",
    "Profit2"
   ]
  },
  {
   "cell_type": "code",
   "execution_count": 69,
   "metadata": {},
   "outputs": [
    {
     "data": {
      "text/plain": [
       "34.30994751943822"
      ]
     },
     "execution_count": 69,
     "metadata": {},
     "output_type": "execute_result"
    }
   ],
   "source": [
    "#Percentage is\n",
    "Perc = (Profit2/Revenue2) * 100\n",
    "Perc"
   ]
  },
  {
   "cell_type": "markdown",
   "metadata": {},
   "source": [
    "## Q2) The 3% loss rate can either mean either 3% of the outstanding balance defaults or 3% of the borrowers default on their entire balance. If the average balance is increased to $2000, what happens to the loss? "
   ]
  },
  {
   "cell_type": "markdown",
   "metadata": {},
   "source": [
    "Answer: If average balance is increased to $2000 from $1000, the loss will increase from $30 to $60."
   ]
  },
  {
   "cell_type": "markdown",
   "metadata": {},
   "source": [
    "## Q3) Is a borrower with a low balance more or less likely to default then a borrower with a high balance? Why ? explain clearly"
   ]
  },
  {
   "cell_type": "markdown",
   "metadata": {},
   "source": [
    "Answer : A borrower with lower balance is more likely to default as - If credit card borrowers had to bear a larger\n",
    "share of their debt, this might provide a sufficient incentive to more closely align credit card borrowing with the ability to repay the debts. It is usually the borrowers with lower balance who would result in defaulting of payments as they are aware of their inability to repay large sums."
   ]
  },
  {
   "cell_type": "markdown",
   "metadata": {},
   "source": [
    "## Q4) The group company has now become unhappy with the credit card provider. it wants to start its own credit card. But for that, it will need to purchase the customers from the current credit card company. If the affilated group offered Rs 20 per account to purchase all the customers from the credit card company, what would their profit be? (assume that we are only talking about 1 year)"
   ]
  },
  {
   "cell_type": "code",
   "execution_count": 72,
   "metadata": {},
   "outputs": [
    {
     "data": {
      "text/plain": [
       "105500"
      ]
     },
     "execution_count": 72,
     "metadata": {},
     "output_type": "execute_result"
    }
   ],
   "source": [
    "#First Scenario \n",
    "TotalCost = 85500 #Taken from above calculations \n",
    "PlusAcquisitionCost = 20*1000\n",
    "FinalCost = TotalCost + PlusAcquisitionCost\n",
    "FinalCost"
   ]
  },
  {
   "cell_type": "code",
   "execution_count": 73,
   "metadata": {},
   "outputs": [
    {
     "data": {
      "text/plain": [
       "-3.9360585367881713"
      ]
     },
     "execution_count": 73,
     "metadata": {},
     "output_type": "execute_result"
    }
   ],
   "source": [
    "Revenue = 101504.715\n",
    "Profit = Revenue-FinalCost\n",
    "ProfitPercent = (Profit/Revenue)*100\n",
    "ProfitPercent"
   ]
  },
  {
   "cell_type": "code",
   "execution_count": 74,
   "metadata": {},
   "outputs": [
    {
     "data": {
      "text/plain": [
       "171814.1281318665"
      ]
     },
     "execution_count": 74,
     "metadata": {},
     "output_type": "execute_result"
    }
   ],
   "source": [
    "#Second Scenario\n",
    "TotalCost = 135894.1281318665\n",
    "PlusAcquisitionCost = 20*1796 \n",
    "FinalCost = TotalCost + PlusAcquisitionCost \n",
    "FinalCost"
   ]
  },
  {
   "cell_type": "code",
   "execution_count": 76,
   "metadata": {},
   "outputs": [
    {
     "data": {
      "text/plain": [
       "16.946528528941986"
      ]
     },
     "execution_count": 76,
     "metadata": {},
     "output_type": "execute_result"
    }
   ],
   "source": [
    "Revenue = 206871.69974796212\n",
    "Profit = Revenue-FinalCost\n",
    "ProfitPercent = (Profit/Revenue)*100\n",
    "ProfitPercent"
   ]
  },
  {
   "cell_type": "markdown",
   "metadata": {},
   "source": [
    "## Q5) What numbers can the financial institution change to convince the affiliated group not to want to purchase, while still not going into a loss? Give a range of what the new numbers are (min and max)"
   ]
  },
  {
   "cell_type": "markdown",
   "metadata": {},
   "source": [
    "Answer : They can reduce the affiliation fee per card to zero while still making profits. Further,  membership fee per card or interest rate can be reduced too such that no losses are still being incurred."
   ]
  },
  {
   "cell_type": "markdown",
   "metadata": {},
   "source": [
    "## Q6) What is the extra cost(if any) company will have to incur if the customer delays the payment of the credit card bill after the due date?"
   ]
  },
  {
   "cell_type": "markdown",
   "metadata": {},
   "source": [
    "The company has to incur the 6.5% cost of funds if customer delays the payment of credit card bill although this cost is usually recovered through late payment fee that is charged by the credit card company"
   ]
  },
  {
   "cell_type": "markdown",
   "metadata": {},
   "source": [
    "## Q7) Is it beneficial for the company if the customer pays the credit card bill after the due date? (express your views as a business strategy analyst with a short example)"
   ]
  },
  {
   "cell_type": "markdown",
   "metadata": {},
   "source": [
    "Answer : If a customer is re-paying after the due date consistently, then it is a matter of concern as there is a high probability of such a customer defaulting their payments and causing losses. However, it is possible that once in a while a customer may miss their payment date and they can be charged with late fee and the costs can then be hence recovered. \n",
    "\n",
    "Thus, the answer to this question largely depends on the profile of each specific customer and each case."
   ]
  },
  {
   "cell_type": "markdown",
   "metadata": {},
   "source": [
    "## Q8) Which information variables you will use to calculate the credit card limit and the risk associated with it for an individual customer? Also, give the reason for your choice."
   ]
  },
  {
   "cell_type": "markdown",
   "metadata": {},
   "source": [
    "1) Disposable Income of the concerned person \n",
    "   Credit limit largely depends on the income of the concerned person as they should not be spending too much as compared to their capacity to repay.\n",
    "2) Credit Bureau Score\n",
    "   Clearly, an individual's credit score largely indicates their ability to repay debt as it indicates their ability to repay debt. One with low credit score shall not be given a very high limit as the money may not be recovered. \n",
    "3) Assets/Net-Worth of the Individual\n",
    "   The liquid as well as illiquid assets of the individual should be taken into account as they can be used to repay debt and also measure the financial position of an individual.\n",
    "\n",
    "   "
   ]
  },
  {
   "cell_type": "code",
   "execution_count": null,
   "metadata": {},
   "outputs": [],
   "source": []
  }
 ],
 "metadata": {
  "kernelspec": {
   "display_name": "Python 3",
   "language": "python",
   "name": "python3"
  },
  "language_info": {
   "codemirror_mode": {
    "name": "ipython",
    "version": 3
   },
   "file_extension": ".py",
   "mimetype": "text/x-python",
   "name": "python",
   "nbconvert_exporter": "python",
   "pygments_lexer": "ipython3",
   "version": "3.8.5"
  }
 },
 "nbformat": 4,
 "nbformat_minor": 4
}
